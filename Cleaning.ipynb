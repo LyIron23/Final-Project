{
  "nbformat": 4,
  "nbformat_minor": 0,
  "metadata": {
    "colab": {
      "provenance": []
    },
    "kernelspec": {
      "name": "python3",
      "display_name": "Python 3"
    },
    "language_info": {
      "name": "python"
    }
  },
  "cells": [
    {
      "cell_type": "code",
      "source": [
        "import pandas as pd\n",
        "import numpy as np\n",
        "\n",
        "\n",
        "df = pd.read_csv('/content/Salaries_allsources.csv')\n",
        "\n",
        "print(df.head())"
      ],
      "metadata": {
        "colab": {
          "base_uri": "https://localhost:8080/"
        },
        "id": "wToYoHzRsTLe",
        "outputId": "d47a0581-7d5b-4eb8-a07f-dfacd4c5b34e"
      },
      "execution_count": null,
      "outputs": [
        {
          "output_type": "stream",
          "name": "stdout",
          "text": [
            "   work_year experience_level employment_type                   job_title  \\\n",
            "0       2020               MI              FT              Data Scientist   \n",
            "1       2020               SE              FT  Machine Learning Scientist   \n",
            "2       2020               SE              FT           Big Data Engineer   \n",
            "3       2020               MI              FT        Product Data Analyst   \n",
            "4       2020               SE              FT   Machine Learning Engineer   \n",
            "\n",
            "   salary salary_currency company_location company_size  \n",
            "0   70000             EUR               DE            L  \n",
            "1  260000             USD               JP            S  \n",
            "2   85000             GBP               GB            M  \n",
            "3   20000             USD               HN            S  \n",
            "4  150000             USD               US            L  \n"
          ]
        }
      ]
    },
    {
      "cell_type": "code",
      "source": [
        "print(df.isnull().sum())"
      ],
      "metadata": {
        "colab": {
          "base_uri": "https://localhost:8080/"
        },
        "id": "s5P45yPnsqsp",
        "outputId": "3c65cd3c-5839-4992-89fe-f627b8684692"
      },
      "execution_count": null,
      "outputs": [
        {
          "output_type": "stream",
          "name": "stdout",
          "text": [
            "work_year           0\n",
            "experience_level    0\n",
            "employment_type     0\n",
            "job_title           0\n",
            "salary              0\n",
            "salary_currency     0\n",
            "company_location    0\n",
            "company_size        0\n",
            "dtype: int64\n"
          ]
        }
      ]
    },
    {
      "cell_type": "code",
      "source": [
        "df['salary_currency'].unique()"
      ],
      "metadata": {
        "colab": {
          "base_uri": "https://localhost:8080/"
        },
        "id": "-9ELTTlGtIYZ",
        "outputId": "53f20a05-bd40-4650-c466-111361caa460"
      },
      "execution_count": null,
      "outputs": [
        {
          "output_type": "execute_result",
          "data": {
            "text/plain": [
              "array(['EUR', 'USD', 'GBP', 'HUF', 'INR', 'JPY', 'CNY', 'MXN', 'CAD',\n",
              "       'DKK', 'PLN', 'SGD', 'CLP', 'BRL', 'TRY', 'AUD', 'CHF',\n",
              "       'United States Dollar', 'British Pound Sterling', 'Euro',\n",
              "       'Indian Rupee', 'Philippine Peso', 'Canadian Dollar',\n",
              "       'Turkish Lira', 'Brazilian Real', 'Swiss Franc',\n",
              "       'Australian Dollar', 'Polish Zloty', 'Norwegian Krone',\n",
              "       'Japanese Yen', 'South African Rand', 'Hong Kong Dollar',\n",
              "       'Singapore Dollar', 'Israeli New Shekel', 'Thai Baht',\n",
              "       'Hungarian Forint', 'Danish Krone', 'Mexican Peso', 'Chilean Peso'],\n",
              "      dtype=object)"
            ]
          },
          "metadata": {},
          "execution_count": 3
        }
      ]
    },
    {
      "cell_type": "code",
      "source": [
        "pln_count = df[df['salary_currency'].isin(['PLN', 'Polish Zloty'])].shape[0]\n",
        "print(pln_count)"
      ],
      "metadata": {
        "colab": {
          "base_uri": "https://localhost:8080/"
        },
        "id": "Rhg20__uuGfq",
        "outputId": "3702f1b4-b5b3-418c-b4d5-9c2fbdd52a69"
      },
      "execution_count": null,
      "outputs": [
        {
          "output_type": "stream",
          "name": "stdout",
          "text": [
            "9\n"
          ]
        }
      ]
    },
    {
      "cell_type": "code",
      "source": [
        "other_count = df[df['salary_currency'].isin(['EUR', 'USD', 'GBP','United States Dollar', 'British Pound Sterling', 'Euro'])].shape[0]\n",
        "print(other_count)"
      ],
      "metadata": {
        "colab": {
          "base_uri": "https://localhost:8080/"
        },
        "id": "jHHHRdQnuNxj",
        "outputId": "1b207636-c529-4285-c6c2-9e4bb5a2200c"
      },
      "execution_count": null,
      "outputs": [
        {
          "output_type": "stream",
          "name": "stdout",
          "text": [
            "3710\n"
          ]
        }
      ]
    },
    {
      "cell_type": "code",
      "source": [
        "values_to_remove = ['HUF', 'INR', 'JPY', 'CNY', 'MXN', 'CAD', 'DKK', 'PLN', 'SGD', 'CLP', 'BRL', 'TRY', 'AUD',\n",
        "                    'CHF', 'Indian Rupee', 'Philippine Peso', 'Canadian Dollar', 'Turkish Lira', 'Brazilian Real',\n",
        "                    'Swiss Franc', 'Australian Dollar', 'Polish Zloty', 'Norwegian Krone', 'Japanese Yen',\n",
        "                    'South African Rand', 'Hong Kong Dollar', 'Singapore Dollar', 'Israeli New Shekel', 'Thai Baht',\n",
        "                    'Hungarian Forint', 'Danish Krone', 'Mexican Peso', 'Chilean Peso']\n",
        "\n",
        "# Remove rows where 'salary_currency' is in the list of values to remove\n",
        "df = df[~df['salary_currency'].isin(values_to_remove)]"
      ],
      "metadata": {
        "id": "PuKJkeGTvNCB"
      },
      "execution_count": null,
      "outputs": []
    },
    {
      "cell_type": "code",
      "source": [
        "df['salary_currency'].unique()"
      ],
      "metadata": {
        "colab": {
          "base_uri": "https://localhost:8080/"
        },
        "id": "XswdgiuUwoYa",
        "outputId": "b34b107e-07ca-4e76-e0e4-faaa30aba507"
      },
      "execution_count": null,
      "outputs": [
        {
          "output_type": "execute_result",
          "data": {
            "text/plain": [
              "array(['EUR', 'USD', 'GBP', 'United States Dollar',\n",
              "       'British Pound Sterling', 'Euro'], dtype=object)"
            ]
          },
          "metadata": {},
          "execution_count": 9
        }
      ]
    },
    {
      "cell_type": "code",
      "source": [
        "replacements = {'United States Dollar': 'USD',\n",
        "                'British Pound Sterling': 'GBP',\n",
        "                'Euro': 'EUR'}\n",
        "\n",
        "# Replace values in 'salary_currency' column\n",
        "df['salary_currency'] = df['salary_currency'].replace(replacements)"
      ],
      "metadata": {
        "id": "ozHydoUKxGp6"
      },
      "execution_count": null,
      "outputs": []
    },
    {
      "cell_type": "code",
      "source": [
        "df['salary_currency'].unique()"
      ],
      "metadata": {
        "colab": {
          "base_uri": "https://localhost:8080/"
        },
        "id": "UrAhyfb2xJog",
        "outputId": "6caeba2f-f836-4c6f-ac8c-9bb0a0bc0c62"
      },
      "execution_count": null,
      "outputs": [
        {
          "output_type": "execute_result",
          "data": {
            "text/plain": [
              "array(['EUR', 'USD', 'GBP'], dtype=object)"
            ]
          },
          "metadata": {},
          "execution_count": 11
        }
      ]
    },
    {
      "cell_type": "code",
      "source": [
        "df['experience_level'].unique()"
      ],
      "metadata": {
        "colab": {
          "base_uri": "https://localhost:8080/"
        },
        "id": "HrD2MyQ9xauM",
        "outputId": "3f770c67-23ca-4a68-85f6-46a137da08dd"
      },
      "execution_count": null,
      "outputs": [
        {
          "output_type": "execute_result",
          "data": {
            "text/plain": [
              "array(['MI', 'SE', 'EN', 'EX', 'Senior', 'Mid', 'Executive', 'Entry'],\n",
              "      dtype=object)"
            ]
          },
          "metadata": {},
          "execution_count": 12
        }
      ]
    },
    {
      "cell_type": "code",
      "source": [
        "replacements = {'SE': 'Senior',\n",
        "                'MI': 'Mid',\n",
        "                'EN': 'Entry', 'EX': 'Executive'}\n",
        "\n",
        "df['experience_level'] = df['experience_level'].replace(replacements)"
      ],
      "metadata": {
        "id": "Pe02kTKixiXw"
      },
      "execution_count": null,
      "outputs": []
    },
    {
      "cell_type": "code",
      "source": [
        "df['experience_level'].unique()"
      ],
      "metadata": {
        "colab": {
          "base_uri": "https://localhost:8080/"
        },
        "id": "Es2jD7g4x8GG",
        "outputId": "36464538-f77b-400f-fdd9-807a2e8e2796"
      },
      "execution_count": null,
      "outputs": [
        {
          "output_type": "execute_result",
          "data": {
            "text/plain": [
              "array(['Mid', 'Senior', 'Entry', 'Executive'], dtype=object)"
            ]
          },
          "metadata": {},
          "execution_count": 20
        }
      ]
    },
    {
      "cell_type": "code",
      "source": [
        "df['employment_type'].unique()"
      ],
      "metadata": {
        "colab": {
          "base_uri": "https://localhost:8080/"
        },
        "id": "rvYXxPrEyTuF",
        "outputId": "7dcb372e-cf5b-4329-ff2a-a1a58288cc2f"
      },
      "execution_count": null,
      "outputs": [
        {
          "output_type": "execute_result",
          "data": {
            "text/plain": [
              "array(['FT', 'CT', 'PT', 'FL', 'Full-Time', 'Part-Time', 'Contract',\n",
              "       'Freelance'], dtype=object)"
            ]
          },
          "metadata": {},
          "execution_count": 15
        }
      ]
    },
    {
      "cell_type": "code",
      "source": [
        "replacements = {'FT': 'Full-Time',\n",
        "                'PT': 'Part-Time',\n",
        "                'CT': 'Contract', 'FL': 'Freelance'}\n",
        "\n",
        "df['employment_type'] = df['employment_type'].replace(replacements)"
      ],
      "metadata": {
        "id": "u_zQhXNtyerY"
      },
      "execution_count": null,
      "outputs": []
    },
    {
      "cell_type": "code",
      "source": [
        "df['employment_type'].unique()"
      ],
      "metadata": {
        "colab": {
          "base_uri": "https://localhost:8080/"
        },
        "id": "JnjFEqbvzH7g",
        "outputId": "8ab5a989-f550-4009-b7cb-9d55e04e5b59"
      },
      "execution_count": null,
      "outputs": [
        {
          "output_type": "execute_result",
          "data": {
            "text/plain": [
              "array(['Full-Time', 'Contract', 'Part-Time', 'Freelance'], dtype=object)"
            ]
          },
          "metadata": {},
          "execution_count": 22
        }
      ]
    },
    {
      "cell_type": "code",
      "source": [
        "df['job_title'].unique()"
      ],
      "metadata": {
        "colab": {
          "base_uri": "https://localhost:8080/"
        },
        "id": "K_2ACybdzJGe",
        "outputId": "afa5fa33-b74d-4b16-f8e6-1cd65732af81"
      },
      "execution_count": null,
      "outputs": [
        {
          "output_type": "execute_result",
          "data": {
            "text/plain": [
              "array(['Data Scientist', 'Machine Learning Scientist',\n",
              "       'Big Data Engineer', 'Product Data Analyst',\n",
              "       'Machine Learning Engineer', 'Data Analyst', 'Lead Data Scientist',\n",
              "       'Business Data Analyst', 'Lead Data Engineer', 'Lead Data Analyst',\n",
              "       'Data Engineer', 'BI Data Analyst', 'Director of Data Science',\n",
              "       'Research Scientist', 'Data Engineering Manager',\n",
              "       'Data Science Consultant',\n",
              "       'Machine Learning Infrastructure Engineer', 'ML Engineer',\n",
              "       'Computer Vision Engineer', 'Principal Data Scientist',\n",
              "       'Data Science Manager', 'Head of Data', 'Data Analytics Engineer',\n",
              "       'Marketing Data Analyst', 'AI Scientist', 'Financial Data Analyst',\n",
              "       'Computer Vision Software Engineer',\n",
              "       'Director of Data Engineering', 'Data Science Engineer',\n",
              "       'Principal Data Engineer', 'Applied Data Scientist',\n",
              "       'Machine Learning Developer', 'Applied Machine Learning Scientist',\n",
              "       'Cloud Data Engineer', 'Data Analytics Manager',\n",
              "       'Head of Data Science', 'Data Specialist', 'Data Architect',\n",
              "       'Finance Data Analyst', 'Principal Data Analyst',\n",
              "       'Staff Data Scientist', 'Analytics Engineer', 'ETL Developer',\n",
              "       'Lead Machine Learning Engineer', 'Data Analytics Lead',\n",
              "       'Business Intelligence Developer', 'Decision Scientist',\n",
              "       'BI Developer', 'BI Analyst', 'Data Manager',\n",
              "       'Business Intelligence Engineer', 'AI Programmer',\n",
              "       'Applied Scientist', 'Research Engineer', 'Data Lead',\n",
              "       'Data Strategist', 'Data Quality Analyst', 'AI Architect',\n",
              "       'Business Intelligence Analyst', 'Staff Machine Learning Engineer',\n",
              "       'Machine Learning Specialist', 'Data Quality Engineer',\n",
              "       'Research Analyst', 'Deep Learning Engineer',\n",
              "       'Data Visualization Specialist', 'MLOps Engineer',\n",
              "       'Data Operations Manager', 'Managing Director Data Science',\n",
              "       'Data Modeller', 'Software Data Engineer',\n",
              "       'Machine Learning Research Engineer', 'Compliance Data Analyst',\n",
              "       'Data Operations Specialist', 'Machine Learning Software Engineer',\n",
              "       'Analytics Engineering Manager',\n",
              "       'Business Intelligence Data Analyst', 'Insight Analyst',\n",
              "       'NLP Engineer', 'Data Operations Engineer', 'Staff Data Analyst',\n",
              "       'AWS Data Architect', 'Data Integration Specialist',\n",
              "       'Data Visualization Analyst', 'Autonomous Vehicle Technician',\n",
              "       'Data Modeler', 'Sales Data Analyst', 'Data Operations Analyst',\n",
              "       'Data Science Lead', 'Applied Machine Learning Engineer',\n",
              "       'ETL Engineer', 'Data DevOps Engineer', 'AI Developer',\n",
              "       'Machine Learning Researcher', 'BI Data Engineer',\n",
              "       'Cloud Database Engineer', 'Data Infrastructure Engineer',\n",
              "       'Deep Learning Researcher', 'Data Analytics Specialist',\n",
              "       'Big Data Architect', 'Azure Data Engineer',\n",
              "       'Manager Data Management', 'Principal Machine Learning Engineer',\n",
              "       'Data Analytics Consultant', 'Data Management Specialist',\n",
              "       'Data Science Tech Lead', 'Data Scientist Lead',\n",
              "       'Machine Learning Manager', 'Cloud Data Architect'], dtype=object)"
            ]
          },
          "metadata": {},
          "execution_count": 24
        }
      ]
    },
    {
      "cell_type": "code",
      "source": [
        "df['job_title'] = df['job_title'].str.lower()"
      ],
      "metadata": {
        "id": "1uGbJ10z5oHF"
      },
      "execution_count": null,
      "outputs": []
    },
    {
      "cell_type": "code",
      "source": [
        "title_mapping = {\n",
        "    'data analytics engineer': 'Data Engineer',\n",
        "    'machine learning infrastructure engineer': 'Machine Learning Engineer',\n",
        "    'ml engineer': 'Machine Learning Engineer',\n",
        "    'computer vision engineer': 'Machine Learning Engineer',\n",
        "    'cloud data engineer': 'Data Engineer',\n",
        "    'data analytics manager': 'Data Analyst',\n",
        "    'data specialist': 'Data Analyst',\n",
        "    'analytics engineer': 'Data Engineer',\n",
        "    'lead machine learning engineer': 'Lead Machine Learning Engineer',\n",
        "    'data analytics lead': 'Lead Data Analyst',\n",
        "    'business intelligence developer': 'Business Intelligence Engineer',\n",
        "    'bi developer': 'Business Intelligence Engineer',\n",
        "    'bi analyst': 'Business Intelligence Analyst',\n",
        "    'analytics engineering manager': 'Data Engineer',\n",
        "    'business intelligence data analyst': 'Business Intelligence Analyst',\n",
        "    'nlp engineer': 'Machine Learning Engineer',\n",
        "    'data integration specialist': 'Data Engineer',\n",
        "    'data visualization analyst': 'Data Analyst',\n",
        "    'autonomous vehicle technician': 'Data Engineer',\n",
        "    'data modeler': 'Data Analyst',\n",
        "    'sales data analyst': 'Data Analyst',\n",
        "    'data operations analyst': 'Data Engineer',\n",
        "    'applied machine learning engineer': 'Machine Learning Engineer',\n",
        "    'etl engineer': 'Data Engineer',\n",
        "    'data devops engineer': 'Data Engineer',\n",
        "    'ai developer': 'AI Programmer',\n",
        "    'big data architect': 'Data Engineer',\n",
        "    'azure data engineer': 'Data Engineer',\n",
        "    'principal machine learning engineer': 'Lead Machine Learning Engineer',\n",
        "    'data analytics consultant': 'Data Analyst',\n",
        "    'data management specialist': 'Data Analyst',\n",
        "    'data science tech lead': 'Lead Data Scientist',\n",
        "    'data scientist lead': 'Lead Data Scientist',\n",
        "    'machine learning manager': 'Machine Learning Engineer',\n",
        "    'cloud data architect': 'Data Engineer',\n",
        "}\n",
        "df['job_title'] = df['job_title'].replace(title_mapping)"
      ],
      "metadata": {
        "id": "epiOju7d5_kZ"
      },
      "execution_count": null,
      "outputs": []
    },
    {
      "cell_type": "code",
      "source": [
        "df['job_title'].unique()"
      ],
      "metadata": {
        "colab": {
          "base_uri": "https://localhost:8080/"
        },
        "id": "ZpyZFRp76IDZ",
        "outputId": "f2c588e9-1cf6-49cc-b148-533df6d0fd22"
      },
      "execution_count": null,
      "outputs": [
        {
          "output_type": "execute_result",
          "data": {
            "text/plain": [
              "array(['data scientist', 'machine learning scientist',\n",
              "       'big data engineer', 'product data analyst',\n",
              "       'machine learning engineer', 'data analyst',\n",
              "       'business data analyst', 'data engineer', 'bi data analyst',\n",
              "       'director of data science', 'research scientist',\n",
              "       'data engineering manager', 'data science consultant',\n",
              "       'principal data scientist', 'data science manager', 'head of data',\n",
              "       'marketing data analyst', 'ai scientist', 'financial data analyst',\n",
              "       'computer vision software engineer',\n",
              "       'director of data engineering', 'data science engineer',\n",
              "       'principal data engineer', 'applied data scientist',\n",
              "       'machine learning developer', 'applied machine learning scientist',\n",
              "       'head of data science', 'data architect', 'finance data analyst',\n",
              "       'principal data analyst', 'staff data scientist', 'etl developer',\n",
              "       'Lead Machine Learning Engineer', 'business intelligence engineer',\n",
              "       'decision scientist', 'business intelligence analyst',\n",
              "       'data manager', 'ai programmer', 'applied scientist',\n",
              "       'research engineer', 'data lead', 'data strategist',\n",
              "       'data quality analyst', 'ai architect',\n",
              "       'staff machine learning engineer', 'machine learning specialist',\n",
              "       'data quality engineer', 'research analyst',\n",
              "       'deep learning engineer', 'data visualization specialist',\n",
              "       'mlops engineer', 'data operations manager',\n",
              "       'managing director data science', 'data modeller',\n",
              "       'software data engineer', 'machine learning research engineer',\n",
              "       'compliance data analyst', 'data operations specialist',\n",
              "       'machine learning software engineer', 'insight analyst',\n",
              "       'data operations engineer', 'staff data analyst',\n",
              "       'aws data architect', 'data science lead',\n",
              "       'machine learning researcher', 'bi data engineer',\n",
              "       'cloud database engineer', 'data infrastructure engineer',\n",
              "       'deep learning researcher', 'data analytics specialist',\n",
              "       'data management'], dtype=object)"
            ]
          },
          "metadata": {},
          "execution_count": 31
        }
      ]
    },
    {
      "cell_type": "code",
      "source": [
        "title_mapping = {\n",
        "    'data scientist': 'Data Scientist',\n",
        "    'machine learning scientist': 'Machine Learning Scientist',\n",
        "    'big data engineer': 'Data Engineer',\n",
        "    'product data analyst': 'Data Analyst',\n",
        "    'machine learning engineer': 'Machine Learning Engineer',\n",
        "    'data analyst': 'Data Analyst',\n",
        "    'business data analyst': 'Business Data Analyst',\n",
        "    'data engineer': 'Data Engineer',\n",
        "    'bi data analyst': 'Business Data Analyst',\n",
        "    'director of data science': 'Data Scientist',\n",
        "    'research scientist': 'Research Scientist',\n",
        "    'data engineering manager': 'Data Engineering Manager',\n",
        "    'data science consultant': 'Data Scientist',\n",
        "    'principal data scientist': 'Data Scientist',\n",
        "    'data science manager': 'Data Scientist',\n",
        "    'head of data': 'Head of Data',\n",
        "    'marketing data analyst': 'Data Analyst',\n",
        "    'ai scientist': 'AI Scientist',\n",
        "    'financial data analyst': 'Data Analyst',\n",
        "    'computer vision software engineer': 'Computer Vision Software Engineer',\n",
        "    'director of data engineering': 'Data Engineering',\n",
        "    'data science engineer': 'Data Science Engineer',\n",
        "    'principal data engineer': 'Data Engineer',\n",
        "    'applied data scientist': 'Data Scientist',\n",
        "    'machine learning developer': 'Machine Learning Engineer',\n",
        "    'applied machine learning scientist': 'Applied Machine Learning Scientist',\n",
        "    'head of data science': 'Head of Data',\n",
        "    'data architect': 'Data Architect',\n",
        "    'finance data analyst': 'Data Analyst',\n",
        "    'principal data analyst': 'Data Analyst',\n",
        "    'staff data scientist': 'Data Scientist',\n",
        "    'etl developer': 'ETL Developer',\n",
        "    'lead machine learning engineer': 'Machine Learning Engineer',\n",
        "    'business intelligence engineer': 'Business Intelligence Engineer',\n",
        "    'decision scientist': 'Decision Scientist',\n",
        "    'business intelligence analyst': 'Business Intelligence Analyst',\n",
        "    'data manager': 'Data Manager',\n",
        "    'ai programmer': 'AI Programmer',\n",
        "    'applied scientist': 'Applied Scientist',\n",
        "    'research engineer': 'Research Engineer',\n",
        "    'data lead': 'Data Lead',\n",
        "    'data strategist': 'Data Strategist',\n",
        "    'data quality analyst': 'Data Analyst',\n",
        "    'ai architect': 'AI Architect',\n",
        "    'staff machine learning engineer': 'Staff Machine Learning Engineer',\n",
        "    'machine learning specialist': 'Machine Learning Specialist',\n",
        "    'data quality engineer': 'Data Quality Engineer',\n",
        "    'research analyst': 'Research Analyst',\n",
        "    'deep learning engineer': 'Deep Learning Engineer',\n",
        "    'data visualization specialist': 'Data Visualization Specialist',\n",
        "    'mlops engineer': 'MLOps Engineer',\n",
        "    'data operations manager': 'Data Operations Manager',\n",
        "    'managing director data science': 'Managing Director Data Science',\n",
        "    'data modeller': 'Data Modeller',\n",
        "    'software data engineer': 'Software Data Engineer',\n",
        "    'machine learning research engineer': 'Machine Learning Research Engineer',\n",
        "    'compliance data analyst': 'Data Analyst',\n",
        "    'data operations specialist': 'Data Operations Specialist',\n",
        "    'machine learning software engineer': 'Machine Learning Software Engineer',\n",
        "    'insight analyst': 'Data Analyst',\n",
        "    'data operations engineer': 'Data Operations Engineer',\n",
        "    'staff data analyst': 'Staff Data Analyst',\n",
        "    'aws data architect': 'AWS Data Architect',\n",
        "    'data science lead': 'Data Science Lead',\n",
        "    'machine learning researcher': 'Machine Learning Researcher',\n",
        "    'bi data engineer': 'BI Data Engineer',\n",
        "    'cloud database engineer': 'Cloud Database Engineer',\n",
        "    'data infrastructure engineer': 'Data Infrastructure Engineer',\n",
        "    'deep learning researcher': 'Deep Learning Researcher',\n",
        "    'data analytics specialist': 'Data Analyst',\n",
        "    'data management': 'Data Management',\n",
        "}\n",
        "\n",
        "df['job_title'] = df['job_title'].replace(title_mapping)"
      ],
      "metadata": {
        "id": "ex9nbMYR6r5e"
      },
      "execution_count": null,
      "outputs": []
    },
    {
      "cell_type": "code",
      "source": [
        "df['job_title'].unique()"
      ],
      "metadata": {
        "colab": {
          "base_uri": "https://localhost:8080/"
        },
        "id": "y7de47oQ8fg8",
        "outputId": "53a30080-e8a1-469d-9d6d-efe6ed83486d"
      },
      "execution_count": null,
      "outputs": [
        {
          "output_type": "execute_result",
          "data": {
            "text/plain": [
              "array(['Data Scientist', 'Machine Learning Scientist', 'Data Engineer',\n",
              "       'Data Analyst', 'Machine Learning Engineer',\n",
              "       'Business Data Analyst', 'Research Scientist',\n",
              "       'Data Engineering Manager', 'Head of Data', 'AI Scientist',\n",
              "       'Computer Vision Software Engineer', 'Data Engineering',\n",
              "       'Data Science Engineer', 'Applied Machine Learning Scientist',\n",
              "       'Data Architect', 'ETL Developer',\n",
              "       'Lead Machine Learning Engineer', 'Business Intelligence Engineer',\n",
              "       'Decision Scientist', 'Business Intelligence Analyst',\n",
              "       'Data Manager', 'AI Programmer', 'Applied Scientist',\n",
              "       'Research Engineer', 'Data Lead', 'Data Strategist',\n",
              "       'AI Architect', 'Staff Machine Learning Engineer',\n",
              "       'Machine Learning Specialist', 'Data Quality Engineer',\n",
              "       'Research Analyst', 'Deep Learning Engineer',\n",
              "       'Data Visualization Specialist', 'MLOps Engineer',\n",
              "       'Data Operations Manager', 'Managing Director Data Science',\n",
              "       'Data Modeller', 'Software Data Engineer',\n",
              "       'Machine Learning Research Engineer', 'Data Operations Specialist',\n",
              "       'Machine Learning Software Engineer', 'Data Operations Engineer',\n",
              "       'Staff Data Analyst', 'AWS Data Architect', 'Data Science Lead',\n",
              "       'Machine Learning Researcher', 'BI Data Engineer',\n",
              "       'Cloud Database Engineer', 'Data Infrastructure Engineer',\n",
              "       'Deep Learning Researcher', 'Data Management'], dtype=object)"
            ]
          },
          "metadata": {},
          "execution_count": 33
        }
      ]
    },
    {
      "cell_type": "code",
      "source": [
        "df['company_location'].unique()"
      ],
      "metadata": {
        "colab": {
          "base_uri": "https://localhost:8080/"
        },
        "id": "Uf3kWPil8wi3",
        "outputId": "31228da4-ceb8-4948-c51f-2d8dfb79f41d"
      },
      "execution_count": null,
      "outputs": [
        {
          "output_type": "execute_result",
          "data": {
            "text/plain": [
              "array(['DE', 'JP', 'GB', 'HN', 'US', 'NZ', 'FR', 'PK', 'GR', 'AE', 'NL',\n",
              "       'AT', 'NG', 'ES', 'PT', 'IT', 'HR', 'LU', 'PL', 'DK', 'RO', 'IN',\n",
              "       'IQ', 'BR', 'BE', 'UA', 'RU', 'MT', 'IR', 'CO', 'MD', 'KE', 'SI',\n",
              "       'CA', 'VN', 'CN', 'CZ', 'MX', 'DZ', 'EE', 'MY', 'AU', 'IE',\n",
              "       'United States', 'United Kingdom', 'Germany', 'Sweden',\n",
              "       'Korea, Republic of', 'Spain', 'Estonia', 'France', 'Canada',\n",
              "       'Australia', 'Portugal', 'Andorra', 'Netherlands', 'Ecuador',\n",
              "       'Mexico', 'Israel', 'Turkey', 'Nigeria', 'Saudi Arabia',\n",
              "       'Colombia', 'Ghana', 'Argentina', 'India', 'Japan',\n",
              "       'Russian Federation', 'Italy', 'Central African Republic',\n",
              "       'Ukraine', 'Ireland', 'Slovenia', 'Croatia', 'Armenia',\n",
              "       'Bosnia and Herzegovina', 'Kenya', 'Latvia', 'Romania', 'Pakistan',\n",
              "       'Lithuania', 'Iran, Islamic Republic of', 'Bahamas', 'Austria',\n",
              "       'Brazil', 'Puerto Rico', 'Finland', 'American Samoa', 'Thailand',\n",
              "       'Greece', 'Philippines', 'Belgium', 'Egypt', 'Indonesia',\n",
              "       'United Arab Emirates', 'Malaysia', 'Honduras', 'Czechia',\n",
              "       'Algeria', 'Iraq', 'Poland', 'Denmark', 'China', 'New Zealand',\n",
              "       'Moldova, Republic of', 'Luxembourg', 'Malta'], dtype=object)"
            ]
          },
          "metadata": {},
          "execution_count": 34
        }
      ]
    },
    {
      "cell_type": "code",
      "source": [
        "df.to_csv('/content/Salaries_allsources.csv', index=False)"
      ],
      "metadata": {
        "id": "tZUdNl8ABkjb"
      },
      "execution_count": null,
      "outputs": []
    },
    {
      "cell_type": "code",
      "source": [
        "import pandas as pd\n",
        "import numpy as np\n",
        "\n",
        "\n",
        "df = pd.read_csv('/content/Salaries_allsources.csv')\n",
        "\n",
        "print(df.head())"
      ],
      "metadata": {
        "id": "nS0QojKOCPlS",
        "colab": {
          "base_uri": "https://localhost:8080/"
        },
        "outputId": "9333808f-1bc1-4c59-e17c-55aa058be66f"
      },
      "execution_count": null,
      "outputs": [
        {
          "output_type": "stream",
          "name": "stdout",
          "text": [
            "   work_year experience_level employment_type                   job_title  \\\n",
            "0       2020              Mid       Full-Time              Data Scientist   \n",
            "1       2020           Senior       Full-Time  Machine Learning Scientist   \n",
            "2       2020           Senior       Full-Time               Data Engineer   \n",
            "3       2020              Mid       Full-Time                Data Analyst   \n",
            "4       2020           Senior       Full-Time   Machine Learning Engineer   \n",
            "\n",
            "   salary salary_currency company_location company_size  \n",
            "0   70000             EUR               DE            L  \n",
            "1  260000             USD               JP            S  \n",
            "2   85000             GBP               GB            M  \n",
            "3   20000             USD               HN            S  \n",
            "4  150000             USD               US            L  \n"
          ]
        }
      ]
    },
    {
      "cell_type": "code",
      "source": [
        "df['salary_currency'].unique()"
      ],
      "metadata": {
        "colab": {
          "base_uri": "https://localhost:8080/"
        },
        "id": "3590xG6NL-CQ",
        "outputId": "e90590dc-0a59-44b3-b01f-5eb31ae83ccb"
      },
      "execution_count": null,
      "outputs": [
        {
          "output_type": "execute_result",
          "data": {
            "text/plain": [
              "array(['EUR', 'USD', 'GBP'], dtype=object)"
            ]
          },
          "metadata": {},
          "execution_count": 2
        }
      ]
    },
    {
      "cell_type": "code",
      "source": [
        "# Assuming the exchange rates are as follows:\n",
        "exchange_rates = {'EUR': 1.07, 'GBP': 1.26}\n",
        "\n",
        "# Function to convert salary to USD based on currency\n",
        "def convert_to_usd(row):\n",
        "    if row['salary_currency'] == 'USD':\n",
        "        return row['salary']\n",
        "    else:\n",
        "        exchange_rate = exchange_rates.get(row['salary_currency'])\n",
        "        if exchange_rate:\n",
        "            return row['salary'] * exchange_rate\n",
        "        else:\n",
        "            return None\n",
        "\n",
        "# Apply the conversion function to create a new column 'salary_usd'\n",
        "df['salary_usd'] = df.apply(convert_to_usd, axis=1)\n",
        "\n",
        "# Drop rows where conversion was not possible (currency not recognized)\n",
        "df = df.dropna(subset=['salary_usd'])\n"
      ],
      "metadata": {
        "id": "BymuDe8tMwZ-"
      },
      "execution_count": null,
      "outputs": []
    },
    {
      "cell_type": "code",
      "source": [
        "df['salary_currency'].unique()"
      ],
      "metadata": {
        "colab": {
          "base_uri": "https://localhost:8080/"
        },
        "id": "8e-1t2bxNn1v",
        "outputId": "6dabc701-22d3-4477-983a-2793918b2f88"
      },
      "execution_count": null,
      "outputs": [
        {
          "output_type": "execute_result",
          "data": {
            "text/plain": [
              "array(['EUR', 'USD', 'GBP'], dtype=object)"
            ]
          },
          "metadata": {},
          "execution_count": 4
        }
      ]
    },
    {
      "cell_type": "code",
      "source": [
        "df.head()"
      ],
      "metadata": {
        "colab": {
          "base_uri": "https://localhost:8080/",
          "height": 348
        },
        "id": "HlFkzGyeNvzX",
        "outputId": "20df4278-4db3-4cd3-8b8b-71c4c6b12ee6"
      },
      "execution_count": null,
      "outputs": [
        {
          "output_type": "execute_result",
          "data": {
            "text/plain": [
              "   work_year experience_level employment_type                   job_title  \\\n",
              "0       2020              Mid       Full-Time              Data Scientist   \n",
              "1       2020           Senior       Full-Time  Machine Learning Scientist   \n",
              "2       2020           Senior       Full-Time               Data Engineer   \n",
              "3       2020              Mid       Full-Time                Data Analyst   \n",
              "4       2020           Senior       Full-Time   Machine Learning Engineer   \n",
              "\n",
              "   salary salary_currency company_location company_size  salary_usd  \n",
              "0   70000             EUR               DE            L     74900.0  \n",
              "1  260000             USD               JP            S    260000.0  \n",
              "2   85000             GBP               GB            M    107100.0  \n",
              "3   20000             USD               HN            S     20000.0  \n",
              "4  150000             USD               US            L    150000.0  "
            ],
            "text/html": [
              "\n",
              "  <div id=\"df-d8db88d2-c0ab-4030-8ccb-1c0768d8352a\" class=\"colab-df-container\">\n",
              "    <div>\n",
              "<style scoped>\n",
              "    .dataframe tbody tr th:only-of-type {\n",
              "        vertical-align: middle;\n",
              "    }\n",
              "\n",
              "    .dataframe tbody tr th {\n",
              "        vertical-align: top;\n",
              "    }\n",
              "\n",
              "    .dataframe thead th {\n",
              "        text-align: right;\n",
              "    }\n",
              "</style>\n",
              "<table border=\"1\" class=\"dataframe\">\n",
              "  <thead>\n",
              "    <tr style=\"text-align: right;\">\n",
              "      <th></th>\n",
              "      <th>work_year</th>\n",
              "      <th>experience_level</th>\n",
              "      <th>employment_type</th>\n",
              "      <th>job_title</th>\n",
              "      <th>salary</th>\n",
              "      <th>salary_currency</th>\n",
              "      <th>company_location</th>\n",
              "      <th>company_size</th>\n",
              "      <th>salary_usd</th>\n",
              "    </tr>\n",
              "  </thead>\n",
              "  <tbody>\n",
              "    <tr>\n",
              "      <th>0</th>\n",
              "      <td>2020</td>\n",
              "      <td>Mid</td>\n",
              "      <td>Full-Time</td>\n",
              "      <td>Data Scientist</td>\n",
              "      <td>70000</td>\n",
              "      <td>EUR</td>\n",
              "      <td>DE</td>\n",
              "      <td>L</td>\n",
              "      <td>74900.0</td>\n",
              "    </tr>\n",
              "    <tr>\n",
              "      <th>1</th>\n",
              "      <td>2020</td>\n",
              "      <td>Senior</td>\n",
              "      <td>Full-Time</td>\n",
              "      <td>Machine Learning Scientist</td>\n",
              "      <td>260000</td>\n",
              "      <td>USD</td>\n",
              "      <td>JP</td>\n",
              "      <td>S</td>\n",
              "      <td>260000.0</td>\n",
              "    </tr>\n",
              "    <tr>\n",
              "      <th>2</th>\n",
              "      <td>2020</td>\n",
              "      <td>Senior</td>\n",
              "      <td>Full-Time</td>\n",
              "      <td>Data Engineer</td>\n",
              "      <td>85000</td>\n",
              "      <td>GBP</td>\n",
              "      <td>GB</td>\n",
              "      <td>M</td>\n",
              "      <td>107100.0</td>\n",
              "    </tr>\n",
              "    <tr>\n",
              "      <th>3</th>\n",
              "      <td>2020</td>\n",
              "      <td>Mid</td>\n",
              "      <td>Full-Time</td>\n",
              "      <td>Data Analyst</td>\n",
              "      <td>20000</td>\n",
              "      <td>USD</td>\n",
              "      <td>HN</td>\n",
              "      <td>S</td>\n",
              "      <td>20000.0</td>\n",
              "    </tr>\n",
              "    <tr>\n",
              "      <th>4</th>\n",
              "      <td>2020</td>\n",
              "      <td>Senior</td>\n",
              "      <td>Full-Time</td>\n",
              "      <td>Machine Learning Engineer</td>\n",
              "      <td>150000</td>\n",
              "      <td>USD</td>\n",
              "      <td>US</td>\n",
              "      <td>L</td>\n",
              "      <td>150000.0</td>\n",
              "    </tr>\n",
              "  </tbody>\n",
              "</table>\n",
              "</div>\n",
              "    <div class=\"colab-df-buttons\">\n",
              "\n",
              "  <div class=\"colab-df-container\">\n",
              "    <button class=\"colab-df-convert\" onclick=\"convertToInteractive('df-d8db88d2-c0ab-4030-8ccb-1c0768d8352a')\"\n",
              "            title=\"Convert this dataframe to an interactive table.\"\n",
              "            style=\"display:none;\">\n",
              "\n",
              "  <svg xmlns=\"http://www.w3.org/2000/svg\" height=\"24px\" viewBox=\"0 -960 960 960\">\n",
              "    <path d=\"M120-120v-720h720v720H120Zm60-500h600v-160H180v160Zm220 220h160v-160H400v160Zm0 220h160v-160H400v160ZM180-400h160v-160H180v160Zm440 0h160v-160H620v160ZM180-180h160v-160H180v160Zm440 0h160v-160H620v160Z\"/>\n",
              "  </svg>\n",
              "    </button>\n",
              "\n",
              "  <style>\n",
              "    .colab-df-container {\n",
              "      display:flex;\n",
              "      gap: 12px;\n",
              "    }\n",
              "\n",
              "    .colab-df-convert {\n",
              "      background-color: #E8F0FE;\n",
              "      border: none;\n",
              "      border-radius: 50%;\n",
              "      cursor: pointer;\n",
              "      display: none;\n",
              "      fill: #1967D2;\n",
              "      height: 32px;\n",
              "      padding: 0 0 0 0;\n",
              "      width: 32px;\n",
              "    }\n",
              "\n",
              "    .colab-df-convert:hover {\n",
              "      background-color: #E2EBFA;\n",
              "      box-shadow: 0px 1px 2px rgba(60, 64, 67, 0.3), 0px 1px 3px 1px rgba(60, 64, 67, 0.15);\n",
              "      fill: #174EA6;\n",
              "    }\n",
              "\n",
              "    .colab-df-buttons div {\n",
              "      margin-bottom: 4px;\n",
              "    }\n",
              "\n",
              "    [theme=dark] .colab-df-convert {\n",
              "      background-color: #3B4455;\n",
              "      fill: #D2E3FC;\n",
              "    }\n",
              "\n",
              "    [theme=dark] .colab-df-convert:hover {\n",
              "      background-color: #434B5C;\n",
              "      box-shadow: 0px 1px 3px 1px rgba(0, 0, 0, 0.15);\n",
              "      filter: drop-shadow(0px 1px 2px rgba(0, 0, 0, 0.3));\n",
              "      fill: #FFFFFF;\n",
              "    }\n",
              "  </style>\n",
              "\n",
              "    <script>\n",
              "      const buttonEl =\n",
              "        document.querySelector('#df-d8db88d2-c0ab-4030-8ccb-1c0768d8352a button.colab-df-convert');\n",
              "      buttonEl.style.display =\n",
              "        google.colab.kernel.accessAllowed ? 'block' : 'none';\n",
              "\n",
              "      async function convertToInteractive(key) {\n",
              "        const element = document.querySelector('#df-d8db88d2-c0ab-4030-8ccb-1c0768d8352a');\n",
              "        const dataTable =\n",
              "          await google.colab.kernel.invokeFunction('convertToInteractive',\n",
              "                                                    [key], {});\n",
              "        if (!dataTable) return;\n",
              "\n",
              "        const docLinkHtml = 'Like what you see? Visit the ' +\n",
              "          '<a target=\"_blank\" href=https://colab.research.google.com/notebooks/data_table.ipynb>data table notebook</a>'\n",
              "          + ' to learn more about interactive tables.';\n",
              "        element.innerHTML = '';\n",
              "        dataTable['output_type'] = 'display_data';\n",
              "        await google.colab.output.renderOutput(dataTable, element);\n",
              "        const docLink = document.createElement('div');\n",
              "        docLink.innerHTML = docLinkHtml;\n",
              "        element.appendChild(docLink);\n",
              "      }\n",
              "    </script>\n",
              "  </div>\n",
              "\n",
              "\n",
              "<div id=\"df-b3779172-e530-42b6-bcb9-192850e5d730\">\n",
              "  <button class=\"colab-df-quickchart\" onclick=\"quickchart('df-b3779172-e530-42b6-bcb9-192850e5d730')\"\n",
              "            title=\"Suggest charts\"\n",
              "            style=\"display:none;\">\n",
              "\n",
              "<svg xmlns=\"http://www.w3.org/2000/svg\" height=\"24px\"viewBox=\"0 0 24 24\"\n",
              "     width=\"24px\">\n",
              "    <g>\n",
              "        <path d=\"M19 3H5c-1.1 0-2 .9-2 2v14c0 1.1.9 2 2 2h14c1.1 0 2-.9 2-2V5c0-1.1-.9-2-2-2zM9 17H7v-7h2v7zm4 0h-2V7h2v10zm4 0h-2v-4h2v4z\"/>\n",
              "    </g>\n",
              "</svg>\n",
              "  </button>\n",
              "\n",
              "<style>\n",
              "  .colab-df-quickchart {\n",
              "      --bg-color: #E8F0FE;\n",
              "      --fill-color: #1967D2;\n",
              "      --hover-bg-color: #E2EBFA;\n",
              "      --hover-fill-color: #174EA6;\n",
              "      --disabled-fill-color: #AAA;\n",
              "      --disabled-bg-color: #DDD;\n",
              "  }\n",
              "\n",
              "  [theme=dark] .colab-df-quickchart {\n",
              "      --bg-color: #3B4455;\n",
              "      --fill-color: #D2E3FC;\n",
              "      --hover-bg-color: #434B5C;\n",
              "      --hover-fill-color: #FFFFFF;\n",
              "      --disabled-bg-color: #3B4455;\n",
              "      --disabled-fill-color: #666;\n",
              "  }\n",
              "\n",
              "  .colab-df-quickchart {\n",
              "    background-color: var(--bg-color);\n",
              "    border: none;\n",
              "    border-radius: 50%;\n",
              "    cursor: pointer;\n",
              "    display: none;\n",
              "    fill: var(--fill-color);\n",
              "    height: 32px;\n",
              "    padding: 0;\n",
              "    width: 32px;\n",
              "  }\n",
              "\n",
              "  .colab-df-quickchart:hover {\n",
              "    background-color: var(--hover-bg-color);\n",
              "    box-shadow: 0 1px 2px rgba(60, 64, 67, 0.3), 0 1px 3px 1px rgba(60, 64, 67, 0.15);\n",
              "    fill: var(--button-hover-fill-color);\n",
              "  }\n",
              "\n",
              "  .colab-df-quickchart-complete:disabled,\n",
              "  .colab-df-quickchart-complete:disabled:hover {\n",
              "    background-color: var(--disabled-bg-color);\n",
              "    fill: var(--disabled-fill-color);\n",
              "    box-shadow: none;\n",
              "  }\n",
              "\n",
              "  .colab-df-spinner {\n",
              "    border: 2px solid var(--fill-color);\n",
              "    border-color: transparent;\n",
              "    border-bottom-color: var(--fill-color);\n",
              "    animation:\n",
              "      spin 1s steps(1) infinite;\n",
              "  }\n",
              "\n",
              "  @keyframes spin {\n",
              "    0% {\n",
              "      border-color: transparent;\n",
              "      border-bottom-color: var(--fill-color);\n",
              "      border-left-color: var(--fill-color);\n",
              "    }\n",
              "    20% {\n",
              "      border-color: transparent;\n",
              "      border-left-color: var(--fill-color);\n",
              "      border-top-color: var(--fill-color);\n",
              "    }\n",
              "    30% {\n",
              "      border-color: transparent;\n",
              "      border-left-color: var(--fill-color);\n",
              "      border-top-color: var(--fill-color);\n",
              "      border-right-color: var(--fill-color);\n",
              "    }\n",
              "    40% {\n",
              "      border-color: transparent;\n",
              "      border-right-color: var(--fill-color);\n",
              "      border-top-color: var(--fill-color);\n",
              "    }\n",
              "    60% {\n",
              "      border-color: transparent;\n",
              "      border-right-color: var(--fill-color);\n",
              "    }\n",
              "    80% {\n",
              "      border-color: transparent;\n",
              "      border-right-color: var(--fill-color);\n",
              "      border-bottom-color: var(--fill-color);\n",
              "    }\n",
              "    90% {\n",
              "      border-color: transparent;\n",
              "      border-bottom-color: var(--fill-color);\n",
              "    }\n",
              "  }\n",
              "</style>\n",
              "\n",
              "  <script>\n",
              "    async function quickchart(key) {\n",
              "      const quickchartButtonEl =\n",
              "        document.querySelector('#' + key + ' button');\n",
              "      quickchartButtonEl.disabled = true;  // To prevent multiple clicks.\n",
              "      quickchartButtonEl.classList.add('colab-df-spinner');\n",
              "      try {\n",
              "        const charts = await google.colab.kernel.invokeFunction(\n",
              "            'suggestCharts', [key], {});\n",
              "      } catch (error) {\n",
              "        console.error('Error during call to suggestCharts:', error);\n",
              "      }\n",
              "      quickchartButtonEl.classList.remove('colab-df-spinner');\n",
              "      quickchartButtonEl.classList.add('colab-df-quickchart-complete');\n",
              "    }\n",
              "    (() => {\n",
              "      let quickchartButtonEl =\n",
              "        document.querySelector('#df-b3779172-e530-42b6-bcb9-192850e5d730 button');\n",
              "      quickchartButtonEl.style.display =\n",
              "        google.colab.kernel.accessAllowed ? 'block' : 'none';\n",
              "    })();\n",
              "  </script>\n",
              "</div>\n",
              "    </div>\n",
              "  </div>\n"
            ]
          },
          "metadata": {},
          "execution_count": 5
        }
      ]
    },
    {
      "cell_type": "code",
      "source": [
        "df['company_location'].unique()"
      ],
      "metadata": {
        "colab": {
          "base_uri": "https://localhost:8080/"
        },
        "id": "UP2n2Gr-OCLd",
        "outputId": "a411b165-669d-4d91-810a-82fac07167be"
      },
      "execution_count": null,
      "outputs": [
        {
          "output_type": "execute_result",
          "data": {
            "text/plain": [
              "array(['DE', 'JP', 'GB', 'HN', 'US', 'NZ', 'FR', 'PK', 'GR', 'AE', 'NL',\n",
              "       'AT', 'NG', 'ES', 'PT', 'IT', 'HR', 'LU', 'PL', 'DK', 'RO', 'IN',\n",
              "       'IQ', 'BR', 'BE', 'UA', 'RU', 'MT', 'IR', 'CO', 'MD', 'KE', 'SI',\n",
              "       'CA', 'VN', 'CN', 'CZ', 'MX', 'DZ', 'EE', 'MY', 'AU', 'IE',\n",
              "       'United States', 'United Kingdom', 'Germany', 'Sweden',\n",
              "       'Korea, Republic of', 'Spain', 'Estonia', 'France', 'Canada',\n",
              "       'Australia', 'Portugal', 'Andorra', 'Netherlands', 'Ecuador',\n",
              "       'Mexico', 'Israel', 'Turkey', 'Nigeria', 'Saudi Arabia',\n",
              "       'Colombia', 'Ghana', 'Argentina', 'India', 'Japan',\n",
              "       'Russian Federation', 'Italy', 'Central African Republic',\n",
              "       'Ukraine', 'Ireland', 'Slovenia', 'Croatia', 'Armenia',\n",
              "       'Bosnia and Herzegovina', 'Kenya', 'Latvia', 'Romania', 'Pakistan',\n",
              "       'Lithuania', 'Iran, Islamic Republic of', 'Bahamas', 'Austria',\n",
              "       'Brazil', 'Puerto Rico', 'Finland', 'American Samoa', 'Thailand',\n",
              "       'Greece', 'Philippines', 'Belgium', 'Egypt', 'Indonesia',\n",
              "       'United Arab Emirates', 'Malaysia', 'Honduras', 'Czechia',\n",
              "       'Algeria', 'Iraq', 'Poland', 'Denmark', 'China', 'New Zealand',\n",
              "       'Moldova, Republic of', 'Luxembourg', 'Malta'], dtype=object)"
            ]
          },
          "metadata": {},
          "execution_count": 6
        }
      ]
    },
    {
      "cell_type": "code",
      "source": [
        "# List of countries to keep\n",
        "countries_to_keep = ['United States', 'United Kingdom', 'Germany', 'Sweden', 'Spain', 'Estonia', 'France', 'Portugal', 'Andorra', 'Netherlands', 'Italy', 'Ireland', 'Slovenia', 'Croatia', 'Armenia', 'Bosnia and Herzegovina', 'Latvia', 'Romania', 'Lithuania', 'Austria', 'Finland', 'Greece', 'Belgium', 'Denmark', 'Luxembourg', 'DE', 'GB', 'FR', 'NL', 'AT', 'ES', 'PT', 'IT', 'HR', 'LU', 'PL', 'DK', 'RO', 'IE', 'BE', 'UA', 'RU', 'MT', 'SI', 'CZ', 'EE', 'LT', 'LV', 'SE', 'FI', 'CH', 'IS']\n",
        "\n",
        "# Filter DataFrame to include only the countries in the list\n",
        "filtered_df = df[df['company_location'].isin(countries_to_keep)]\n",
        "\n",
        "# Optionally, you can reset the index if you want\n",
        "filtered_df.reset_index(drop=True, inplace=True)\n"
      ],
      "metadata": {
        "id": "IMUVdd8ORymb"
      },
      "execution_count": null,
      "outputs": []
    },
    {
      "cell_type": "code",
      "source": [
        "df['company_location'].unique()"
      ],
      "metadata": {
        "colab": {
          "base_uri": "https://localhost:8080/"
        },
        "id": "aTi-uGOxS1R3",
        "outputId": "214189e2-dbb9-4a58-b235-6b73daeb384a"
      },
      "execution_count": null,
      "outputs": [
        {
          "output_type": "execute_result",
          "data": {
            "text/plain": [
              "array(['DE', 'JP', 'GB', 'HN', 'US', 'NZ', 'FR', 'PK', 'GR', 'AE', 'NL',\n",
              "       'AT', 'NG', 'ES', 'PT', 'IT', 'HR', 'LU', 'PL', 'DK', 'RO', 'IN',\n",
              "       'IQ', 'BR', 'BE', 'UA', 'RU', 'MT', 'IR', 'CO', 'MD', 'KE', 'SI',\n",
              "       'CA', 'VN', 'CN', 'CZ', 'MX', 'DZ', 'EE', 'MY', 'AU', 'IE',\n",
              "       'United States', 'United Kingdom', 'Germany', 'Sweden',\n",
              "       'Korea, Republic of', 'Spain', 'Estonia', 'France', 'Canada',\n",
              "       'Australia', 'Portugal', 'Andorra', 'Netherlands', 'Ecuador',\n",
              "       'Mexico', 'Israel', 'Turkey', 'Nigeria', 'Saudi Arabia',\n",
              "       'Colombia', 'Ghana', 'Argentina', 'India', 'Japan',\n",
              "       'Russian Federation', 'Italy', 'Central African Republic',\n",
              "       'Ukraine', 'Ireland', 'Slovenia', 'Croatia', 'Armenia',\n",
              "       'Bosnia and Herzegovina', 'Kenya', 'Latvia', 'Romania', 'Pakistan',\n",
              "       'Lithuania', 'Iran, Islamic Republic of', 'Bahamas', 'Austria',\n",
              "       'Brazil', 'Puerto Rico', 'Finland', 'American Samoa', 'Thailand',\n",
              "       'Greece', 'Philippines', 'Belgium', 'Egypt', 'Indonesia',\n",
              "       'United Arab Emirates', 'Malaysia', 'Honduras', 'Czechia',\n",
              "       'Algeria', 'Iraq', 'Poland', 'Denmark', 'China', 'New Zealand',\n",
              "       'Moldova, Republic of', 'Luxembourg', 'Malta'], dtype=object)"
            ]
          },
          "metadata": {},
          "execution_count": 11
        }
      ]
    },
    {
      "cell_type": "code",
      "source": [
        "# List of countries to keep\n",
        "countries_to_keep = ['United States', 'United Kingdom', 'Germany', 'Sweden', 'Spain', 'Estonia', 'France', 'Portugal', 'Netherlands', 'Italy', 'Ireland', 'Slovenia', 'Croatia', 'Bosnia and Herzegovina', 'Latvia', 'Romania', 'Lithuania', 'Austria', 'Finland', 'Greece', 'Belgium', 'Denmark', 'Luxembourg', 'DE', 'GB', 'FR', 'NL', 'AT', 'ES', 'PT', 'IT', 'HR', 'LU', 'PL', 'DK', 'RO', 'IE', 'BE', 'UA', 'RU', 'MT', 'SI', 'CZ', 'EE', 'LT', 'LV', 'SE', 'FI', 'CH', 'IS']\n",
        "\n",
        "# Filter DataFrame to include only the countries in the list\n",
        "df = df[df['company_location'].isin(countries_to_keep)]\n",
        "\n",
        "# Optionally, you can reset the index if you want\n",
        "df.reset_index(drop=True, inplace=True)\n"
      ],
      "metadata": {
        "id": "jooa5raCTPMM"
      },
      "execution_count": null,
      "outputs": []
    },
    {
      "cell_type": "code",
      "source": [
        "df['company_location'].unique()"
      ],
      "metadata": {
        "colab": {
          "base_uri": "https://localhost:8080/"
        },
        "id": "ph8f4dTUTRUa",
        "outputId": "5b0522ae-2a94-4e10-d7dd-b3e73cc51975"
      },
      "execution_count": null,
      "outputs": [
        {
          "output_type": "execute_result",
          "data": {
            "text/plain": [
              "array(['DE', 'GB', 'FR', 'NL', 'AT', 'ES', 'PT', 'IT', 'HR', 'LU', 'PL',\n",
              "       'DK', 'RO', 'BE', 'UA', 'RU', 'MT', 'SI', 'CZ', 'EE', 'IE', 'SE',\n",
              "       'LV', 'LT', 'FI'], dtype=object)"
            ]
          },
          "metadata": {},
          "execution_count": 19
        }
      ]
    },
    {
      "cell_type": "code",
      "source": [
        "df.to_csv('/content/Salaries_allsources.csv', index=False)"
      ],
      "metadata": {
        "id": "KWJ3YHZfTZPb"
      },
      "execution_count": null,
      "outputs": []
    },
    {
      "cell_type": "code",
      "source": [
        "country_mapping = {\n",
        "    'Belgium': 'BE', 'Greece': 'EL', 'Lithuania': 'LT', 'Portugal': 'PT',\n",
        "    'Bulgaria': 'BG', 'Spain': 'ES', 'Luxembourg': 'LU', 'Romania': 'RO',\n",
        "    'Czechia': 'CZ', 'France': 'FR', 'Hungary': 'HU', 'Slovenia': 'SI',\n",
        "    'Denmark': 'DK', 'Croatia': 'HR', 'Malta': 'MT', 'Slovakia': 'SK',\n",
        "    'Germany': 'DE', 'Italy': 'IT', 'Netherlands': 'NL', 'Finland': 'FI',\n",
        "    'Estonia': 'EE', 'Cyprus': 'CY', 'Austria': 'AT', 'Sweden': 'SE',\n",
        "    'Ireland': 'IE', 'Latvia': 'LV', 'Poland': 'PL',\n",
        "    'Iceland': 'IS', 'Norway': 'NO',\n",
        "    'Liechtenstein': 'LI', 'Switzerland': 'CH',\n",
        "    'Bosnia and Herzegovina': 'BA',\n",
        "    'Montenegro': 'ME',\n",
        "    'Moldova': 'MD',\n",
        "    'North Macedonia': 'MK',\n",
        "    'Georgia': 'GE',\n",
        "    'Albania': 'AL',\n",
        "    'Serbia': 'RS',\n",
        "    'Türkiye': 'TR',\n",
        "    'Ukraine': 'UA',\n",
        "    'United States': 'US', 'United Kingdom': 'GB'\n",
        "}\n",
        "\n",
        "# Change country names using country_mapping\n",
        "df['company_location'] = df['company_location'].replace(country_mapping)"
      ],
      "metadata": {
        "colab": {
          "base_uri": "https://localhost:8080/"
        },
        "id": "3GcFtGDZVwXg",
        "outputId": "3d270065-78d8-473d-b1a7-c2aaa46cfa51"
      },
      "execution_count": null,
      "outputs": [
        {
          "output_type": "stream",
          "name": "stderr",
          "text": [
            "<ipython-input-21-615a43ea630a>:24: SettingWithCopyWarning: \n",
            "A value is trying to be set on a copy of a slice from a DataFrame.\n",
            "Try using .loc[row_indexer,col_indexer] = value instead\n",
            "\n",
            "See the caveats in the documentation: https://pandas.pydata.org/pandas-docs/stable/user_guide/indexing.html#returning-a-view-versus-a-copy\n",
            "  df['company_location'] = df['company_location'].replace(country_mapping)\n"
          ]
        }
      ]
    },
    {
      "cell_type": "code",
      "source": [
        "df['company_location'].unique()"
      ],
      "metadata": {
        "colab": {
          "base_uri": "https://localhost:8080/"
        },
        "id": "HzGB5oUnV5Dg",
        "outputId": "85d9906c-f881-4dc2-8855-ee6486f724e3"
      },
      "execution_count": null,
      "outputs": [
        {
          "output_type": "execute_result",
          "data": {
            "text/plain": [
              "array(['DE', 'GB', 'FR', 'NL', 'AT', 'ES', 'PT', 'IT', 'HR', 'LU', 'PL',\n",
              "       'DK', 'RO', 'BE', 'UA', 'RU', 'MT', 'SI', 'CZ', 'EE', 'IE', 'SE',\n",
              "       'LV', 'LT', 'FI'], dtype=object)"
            ]
          },
          "metadata": {},
          "execution_count": 23
        }
      ]
    },
    {
      "cell_type": "code",
      "source": [],
      "metadata": {
        "id": "nUJlyjWqWZz0"
      },
      "execution_count": null,
      "outputs": []
    }
  ]
}